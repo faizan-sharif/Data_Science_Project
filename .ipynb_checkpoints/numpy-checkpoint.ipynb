{
 "cells": [
  {
   "cell_type": "code",
   "execution_count": 2,
   "id": "65ec24a5",
   "metadata": {},
   "outputs": [],
   "source": [
    "import numpy as np"
   ]
  },
  {
   "cell_type": "code",
   "execution_count": null,
   "id": "a24c8b4f",
   "metadata": {},
   "outputs": [],
   "source": [
    "ar = np.array([1,12,2,3,3])"
   ]
  },
  {
   "cell_type": "code",
   "execution_count": null,
   "id": "870841d6",
   "metadata": {
    "scrolled": true
   },
   "outputs": [],
   "source": [
    "ar"
   ]
  },
  {
   "cell_type": "code",
   "execution_count": null,
   "id": "4fcc4d1e",
   "metadata": {},
   "outputs": [],
   "source": [
    "print(ar)"
   ]
  },
  {
   "cell_type": "code",
   "execution_count": null,
   "id": "ab65b7b1",
   "metadata": {
    "scrolled": true
   },
   "outputs": [],
   "source": [
    "ar[2] = 10\n",
    "print(ar)"
   ]
  },
  {
   "cell_type": "code",
   "execution_count": null,
   "id": "bb2306f7",
   "metadata": {},
   "outputs": [],
   "source": [
    "a_mul = np.array([[1,2,3,],\n",
    "                  [4,5,6],\n",
    "                  [7,8,9]])\n",
    "\n",
    "print(a_mul[0])\n",
    "print([a_mul[2,2]])"
   ]
  },
  {
   "cell_type": "code",
   "execution_count": null,
   "id": "e149ef35",
   "metadata": {},
   "outputs": [],
   "source": [
    "d = np.array([[[1, 2, 3], [4, 5, 6]], [[1, 2, 3], [4, 5, 6]]])\n",
    "print(d)"
   ]
  },
  {
   "cell_type": "code",
   "execution_count": null,
   "id": "e9e0162b",
   "metadata": {},
   "outputs": [],
   "source": [
    "print(d.shape)"
   ]
  },
  {
   "cell_type": "code",
   "execution_count": null,
   "id": "bd9ba32a",
   "metadata": {},
   "outputs": [],
   "source": [
    "print(d.ndim)"
   ]
  },
  {
   "cell_type": "code",
   "execution_count": null,
   "id": "8485ce01",
   "metadata": {},
   "outputs": [],
   "source": [
    "print(d.size)"
   ]
  },
  {
   "cell_type": "code",
   "execution_count": null,
   "id": "2309e09f",
   "metadata": {},
   "outputs": [],
   "source": [
    "print(d.dtype)"
   ]
  },
  {
   "cell_type": "code",
   "execution_count": null,
   "id": "be77ba28",
   "metadata": {},
   "outputs": [],
   "source": [
    "g = np.full((2,3,5),9)\n",
    "print(g)"
   ]
  },
  {
   "cell_type": "markdown",
   "id": "6c023d30",
   "metadata": {},
   "source": [
    "x_value = np.arange(0,1005,5)\n",
    "print(x_value)"
   ]
  },
  {
   "cell_type": "code",
   "execution_count": null,
   "id": "e0221dcd",
   "metadata": {},
   "outputs": [],
   "source": [
    "x_values = np.linspace(0,1000,1001)\n",
    "print(x_values)"
   ]
  },
  {
   "cell_type": "code",
   "execution_count": null,
   "id": "4daec879",
   "metadata": {},
   "outputs": [],
   "source": [
    "l1 = [1,2,3,4,5]\n",
    "l2 = [6,7,8,9,10]\n",
    "\n",
    "a1 = np.array(l1)\n",
    "a2 = np.array(l2)\n",
    "\n",
    "print(a1 * a2)\n",
    "print(l1 * 5)\n",
    "print(a1 - a2)"
   ]
  },
  {
   "cell_type": "code",
   "execution_count": null,
   "id": "aa5439ba",
   "metadata": {},
   "outputs": [],
   "source": [
    "a = np.array([1,2,3,4])\n",
    "\n",
    "ar = np.append(a,[6,7,8,9])\n",
    "print(ar)"
   ]
  },
  {
   "cell_type": "code",
   "execution_count": null,
   "id": "4a8c8d30",
   "metadata": {},
   "outputs": [],
   "source": [
    "\n",
    "arr = np.array([1, 2, 3, 4, 5])\n",
    "x = arr.copy()\n",
    "arr[0] = 42\n",
    "\n",
    "print(arr)\n",
    "print(x)"
   ]
  },
  {
   "cell_type": "code",
   "execution_count": null,
   "id": "6870123d",
   "metadata": {},
   "outputs": [],
   "source": [
    "arr = np.array([1, 2, 3, 4, 5])\n",
    "x = arr.view()\n",
    "arr[0] = 42\n",
    "\n",
    "print(arr)\n",
    "print(x)"
   ]
  },
  {
   "cell_type": "code",
   "execution_count": null,
   "id": "89f26047",
   "metadata": {},
   "outputs": [],
   "source": [
    "z = np.array([1,2,3,4,5])\n",
    "l = np.array([6,7,8,9,10])\n",
    "n = np.append(a,l)\n",
    "print(n)"
   ]
  },
  {
   "cell_type": "code",
   "execution_count": null,
   "id": "68c73bb5",
   "metadata": {},
   "outputs": [],
   "source": [
    "g = np.array([1,2,3])\n",
    "\n",
    "b = np.append(g,[7,8,9])\n",
    "j = np.insert(b,3,[4,5,6])\n",
    "print(j)"
   ]
  },
  {
   "cell_type": "code",
   "execution_count": null,
   "id": "cbd26562",
   "metadata": {},
   "outputs": [],
   "source": [
    "j = np.array([[1,2,3],\n",
    "              [6,7,8]])\n",
    "m = np.delete(j,0,1)\n",
    "print(m)"
   ]
  },
  {
   "cell_type": "markdown",
   "id": "195a9df0",
   "metadata": {},
   "source": []
  },
  {
   "cell_type": "code",
   "execution_count": 4,
   "id": "fffcf1af",
   "metadata": {},
   "outputs": [
    {
     "name": "stdout",
     "output_type": "stream",
     "text": [
      "(4, 4)\n",
      "[[ 1  2]\n",
      " [ 3  4]\n",
      " [ 4  5]\n",
      " [ 6  7]\n",
      " [ 8  9]\n",
      " [10 11]\n",
      " [12 13]\n",
      " [14 15]]\n",
      "None\n",
      "[1 2 3 4]\n",
      "[1 2 3 4]\n",
      "[[1 3]\n",
      " [2 4]]\n",
      "[[1 3]\n",
      " [2 4]]\n"
     ]
    }
   ],
   "source": [
    "p = np.array([[1, 2, 3, 4], \n",
    "              [4, 5, 6, 7],\n",
    "              [8, 9, 10,11],\n",
    "              [12, 13, 14, 15]])\n",
    "\n",
    "print(p.shape)\n",
    "print(p.reshape(8, 2))\n",
    "print(p.resize(2,2))\n",
    "print(p.flatten())\n",
    "print(p.ravel())\n",
    "print(p.T)\n",
    "print(p.swapaxes(0,1))"
   ]
  },
  {
   "cell_type": "code",
   "execution_count": 9,
   "id": "3d35fa86",
   "metadata": {},
   "outputs": [
    {
     "name": "stdout",
     "output_type": "stream",
     "text": [
      "[[ 1  2  3  4  5 11 12 13 14 15]\n",
      " [ 6  7  8  9 10 16 17 18 19 20]]\n",
      "[[[ 1  2  3  4  5]\n",
      "  [ 6  7  8  9 10]]\n",
      "\n",
      " [[11 12 13 14 15]\n",
      "  [16 17 18 19 20]]]\n"
     ]
    }
   ],
   "source": [
    "a1 = np.array([[1,2,3,4,5],\n",
    "              [6,7,8,9,10]])\n",
    "a2 = np.array([[11,12,13,14,15],\n",
    "              [16,17,18,19,20]])\n",
    "p = np.concatenate((a1,a2),axis=1)\n",
    "print(p)\n",
    "u = np.stack((a1,a2))\n",
    "print(u)"
   ]
  },
  {
   "cell_type": "code",
   "execution_count": 16,
   "id": "38b9bc34",
   "metadata": {},
   "outputs": [
    {
     "name": "stdout",
     "output_type": "stream",
     "text": [
      "[array([[1, 2, 3, 4, 5]]), array([[ 6,  7,  8,  9, 10]]), array([[11, 12, 13, 14, 15]]), array([[16, 17, 18, 19, 20]])]\n"
     ]
    }
   ],
   "source": [
    "a1 = np.array([[1,2,3,4,5],\n",
    "               [6,7,8,9,10],\n",
    "               [11,12,13,14,15],\n",
    "               [16,17,18,19,20]])\n",
    "m = np.split(a1,4,axis=0)\n",
    "print(m)"
   ]
  },
  {
   "cell_type": "code",
   "execution_count": 19,
   "id": "541d9d2f",
   "metadata": {},
   "outputs": [
    {
     "name": "stdout",
     "output_type": "stream",
     "text": [
      "1\n",
      "20\n",
      "5.766281297335398\n",
      "10.5\n",
      "210\n",
      "10.5\n"
     ]
    }
   ],
   "source": [
    "a1 = np.array([[1,2,3,4,5],\n",
    "               [6,7,8,9,10],\n",
    "               [11,12,13,14,15],\n",
    "               [16,17,18,19,20]])\n",
    "print(a1.min())\n",
    "print(a1.max())\n",
    "print(a1.std())\n",
    "print(a1.mean())\n",
    "print(a1.sum())\n",
    "print(np.median(a1))"
   ]
  },
  {
   "cell_type": "code",
   "execution_count": 23,
   "id": "dd1dbc68",
   "metadata": {},
   "outputs": [
    {
     "name": "stdout",
     "output_type": "stream",
     "text": [
      "[[[37 99 69 85  4]\n",
      "  [94 44 78 52 41]\n",
      "  [65 23 33 63 34]]\n",
      "\n",
      " [[63 83 48 18 41]\n",
      "  [59 94 57 99 54]\n",
      "  [81 40 35 47 29]]]\n"
     ]
    }
   ],
   "source": [
    "numbers = np.random.randint(100,size=(2,3,5))\n",
    "print(numbers)"
   ]
  },
  {
   "cell_type": "code",
   "execution_count": 24,
   "id": "2a4359e7",
   "metadata": {},
   "outputs": [
    {
     "name": "stdout",
     "output_type": "stream",
     "text": [
      "[[3 7 6]\n",
      " [3 5 8]]\n"
     ]
    }
   ],
   "source": [
    "numbers = np.random.binomial(10, p=0.5,size=(2,3))\n",
    "print(numbers)"
   ]
  },
  {
   "cell_type": "code",
   "execution_count": 25,
   "id": "58a3c7a9",
   "metadata": {},
   "outputs": [
    {
     "name": "stdout",
     "output_type": "stream",
     "text": [
      "[[ 29.98017061  18.55629069  47.19054932  29.65174115  -6.97195496]\n",
      " [  1.67436353  26.76504547  27.65958357  12.57863415 -27.24383886]]\n"
     ]
    }
   ],
   "source": [
    "numbers = np.random.normal(loc=10,scale=15,size=(2,5))\n",
    "print(numbers)"
   ]
  },
  {
   "cell_type": "code",
   "execution_count": 27,
   "id": "76e3d374",
   "metadata": {},
   "outputs": [
    {
     "name": "stdout",
     "output_type": "stream",
     "text": [
      "[[5 3 1]\n",
      " [5 2 1]]\n"
     ]
    }
   ],
   "source": [
    "numbers = np.random.choice([1,2,3,4,5], size=(2,3))\n",
    "print(numbers)"
   ]
  },
  {
   "cell_type": "code",
   "execution_count": null,
   "id": "29219220",
   "metadata": {},
   "outputs": [],
   "source": []
  }
 ],
 "metadata": {
  "kernelspec": {
   "display_name": "Python 3 (ipykernel)",
   "language": "python",
   "name": "python3"
  },
  "language_info": {
   "codemirror_mode": {
    "name": "ipython",
    "version": 3
   },
   "file_extension": ".py",
   "mimetype": "text/x-python",
   "name": "python",
   "nbconvert_exporter": "python",
   "pygments_lexer": "ipython3",
   "version": "3.11.5"
  }
 },
 "nbformat": 4,
 "nbformat_minor": 5
}
